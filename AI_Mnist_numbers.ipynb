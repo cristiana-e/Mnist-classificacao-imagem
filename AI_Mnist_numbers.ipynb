{
  "nbformat": 4,
  "nbformat_minor": 0,
  "metadata": {
    "colab": {
      "name": "AI - Mnist numbers",
      "provenance": [],
      "authorship_tag": "ABX9TyPoKOXHt78Y/yqQ6+hkddiw",
      "include_colab_link": true
    },
    "kernelspec": {
      "name": "python3",
      "display_name": "Python 3"
    },
    "language_info": {
      "name": "python"
    }
  },
  "cells": [
    {
      "cell_type": "markdown",
      "metadata": {
        "id": "view-in-github",
        "colab_type": "text"
      },
      "source": [
        "<a href=\"https://colab.research.google.com/github/cristiana-e/Mnist-classificacao-imagem/blob/master/AI_Mnist_numbers.ipynb\" target=\"_parent\"><img src=\"https://colab.research.google.com/assets/colab-badge.svg\" alt=\"Open In Colab\"/></a>"
      ]
    },
    {
      "cell_type": "markdown",
      "source": [
        "##Importando as bibliotecas necessárias"
      ],
      "metadata": {
        "id": "5I_SBHAVFmBJ"
      }
    },
    {
      "cell_type": "code",
      "execution_count": null,
      "metadata": {
        "id": "hBdfT3nIBJV6"
      },
      "outputs": [],
      "source": [
        "import tensorflow as tf \n",
        "import numpy as np \n",
        "import pandas as pd\n",
        "import seaborn as sns\n",
        "import matplotlib.pyplot as plt "
      ]
    },
    {
      "cell_type": "code",
      "source": [
        "#importando a base de dados\n",
        "mnist = tf.keras.datasets.mnist\n"
      ],
      "metadata": {
        "id": "fFaRMBGeBPO3"
      },
      "execution_count": null,
      "outputs": []
    },
    {
      "cell_type": "code",
      "source": [
        "#dividindo a base em treino e teste para o modelo\n",
        "(x_train, y_train), (x_test, y_test) = mnist.load_data()\n"
      ],
      "metadata": {
        "id": "e39RwCh0BRR1"
      },
      "execution_count": null,
      "outputs": []
    },
    {
      "cell_type": "markdown",
      "source": [
        "### Conhecendo a dimensão dos dados"
      ],
      "metadata": {
        "id": "7EHaGzd8FRQn"
      }
    },
    {
      "cell_type": "code",
      "source": [
        "x_train.shape"
      ],
      "metadata": {
        "colab": {
          "base_uri": "https://localhost:8080/"
        },
        "id": "kef-FLBNFAPb",
        "outputId": "fca76798-07cf-4904-fea4-e5fd7d647cb3"
      },
      "execution_count": null,
      "outputs": [
        {
          "output_type": "execute_result",
          "data": {
            "text/plain": [
              "(60000, 28, 28)"
            ]
          },
          "metadata": {},
          "execution_count": 4
        }
      ]
    },
    {
      "cell_type": "code",
      "source": [
        "x_test.shape"
      ],
      "metadata": {
        "colab": {
          "base_uri": "https://localhost:8080/"
        },
        "id": "2jEKL6RoFIYw",
        "outputId": "2ba2e4f3-46f1-470e-addb-ed68908851b6"
      },
      "execution_count": null,
      "outputs": [
        {
          "output_type": "execute_result",
          "data": {
            "text/plain": [
              "(10000, 28, 28)"
            ]
          },
          "metadata": {},
          "execution_count": 5
        }
      ]
    },
    {
      "cell_type": "markdown",
      "source": [
        "##Pré processamento dos dados"
      ],
      "metadata": {
        "id": "3NmxA7I3F03Q"
      }
    },
    {
      "cell_type": "code",
      "source": [
        "# Visualizando a primeira imagem do conjunto de treinamento\n",
        "plt.figure()\n",
        "plt.imshow(x_train[0], cmap=\"gray\") #outra forma de transformar a imagem em preto e branco é cmap=plt.cm.binary\n",
        "plt.colorbar()\n",
        "plt.show()"
      ],
      "metadata": {
        "colab": {
          "base_uri": "https://localhost:8080/",
          "height": 265
        },
        "id": "eIMs32GwBWBt",
        "outputId": "e4cd1301-af9b-4700-8406-7343e0477754"
      },
      "execution_count": null,
      "outputs": [
        {
          "output_type": "display_data",
          "data": {
            "image/png": "[encoded data removed]",
            "text/plain": [
              "<Figure size 432x288 with 2 Axes>"
            ]
          },
          "metadata": {
            "needs_background": "light"
          }
        }
      ]
    },
    {
      "cell_type": "code",
      "source": [
        "#Normalizando os dados\n",
        "x_train = x_train/255\n",
        "x_test = x_test/255"
      ],
      "metadata": {
        "id": "-oDiQEW7Bb98"
      },
      "execution_count": null,
      "outputs": []
    },
    {
      "cell_type": "code",
      "source": [
        "plt.figure(figsize=(10, 10))\n",
        "for i in range(25):\n",
        "  # imprimir a 25 primeiras imagens, em um quadro de 5 por 5 imagens\n",
        "  plt.subplot(5,5,i+1)    # quantidade de imagens 5*5 (25)\n",
        "  plt.imshow(x_train[i], cmap=\"gray\")\n",
        "  plt.grid(False)\n",
        "  plt.xticks([]) #retira as grades do eixo x\n",
        "  plt.yticks([]) #retira as grades do eixo y\n",
        "  plt.xlabel(y_train[i]) # Mesmo índice da imagem\n",
        "plt.show()"
      ],
      "metadata": {
        "colab": {
          "base_uri": "https://localhost:8080/",
          "height": 589
        },
        "id": "I-zFASZhBeya",
        "outputId": "3fe1a29f-11a1-4da7-8472-121d20141ceb"
      },
      "execution_count": null,
      "outputs": [
        {
          "output_type": "display_data",
          "data": {
            "image/png": "[encoded data removed]",
            "text/plain": [
              "<Figure size 720x720 with 25 Axes>"
            ]
          },
          "metadata": {}
        }
      ]
    },
    {
      "cell_type": "code",
      "source": [
        "class_names = [\"0\", \"1\", \"2\", \"3\", \"4\", \"5\",\n",
        "               \"6\", \"7\", \"8\", \"9\"]"
      ],
      "metadata": {
        "id": "zk6pWmeEBg8q"
      },
      "execution_count": null,
      "outputs": []
    },
    {
      "cell_type": "markdown",
      "source": [
        "# Criando o modelo de Deep Learning"
      ],
      "metadata": {
        "id": "-rTF81QxGjTo"
      }
    },
    {
      "cell_type": "code",
      "source": [
        "model = tf.keras.Sequential([\n",
        "                             tf.keras.layers.Flatten(input_shape=(28, 28)), #Camada de input,flaten compacta os dados,ou seja tranforma um vetor multidimenssional em unidimenssional\n",
        "                             tf.keras.layers.Dense(128, activation='relu'),#primeiro parametro será a quantidade de unidades \n",
        "                             tf.keras.layers.Dense(10) #Quantidade de classificados                    \n",
        "])"
      ],
      "metadata": {
        "id": "eukGOCwQBkV0"
      },
      "execution_count": null,
      "outputs": []
    },
    {
      "cell_type": "code",
      "source": [
        "#Adam é um otimizador complexo e dos mais usado\n",
        "#A ideia é ter um menor loss possível\n",
        "model.compile(optimizer='adam',\n",
        "              loss=tf.keras.losses.SparseCategoricalCrossentropy(from_logits=True),\n",
        "              metrics=['accuracy'])"
      ],
      "metadata": {
        "id": "OYJXf9rtBulA"
      },
      "execution_count": null,
      "outputs": []
    },
    {
      "cell_type": "markdown",
      "source": [
        "# Treinando o modelo com o conjunto de treinamento"
      ],
      "metadata": {
        "id": "gdM3bgQFGqAq"
      }
    },
    {
      "cell_type": "code",
      "source": [
        "#Treinando o modelo\n",
        "model.fit(x=x_train, y=y_train, epochs=10) #10 é a quantidade de vezes que o modelo será treinado"
      ],
      "metadata": {
        "colab": {
          "base_uri": "https://localhost:8080/"
        },
        "id": "vli1W1GbBzJx",
        "outputId": "b299912e-ce85-4421-c6b3-6682ca5abdad"
      },
      "execution_count": null,
      "outputs": [
        {
          "output_type": "stream",
          "name": "stdout",
          "text": [
            "Epoch 1/10\n",
            "1875/1875 [==============================] - 8s 4ms/step - loss: 0.2596 - accuracy: 0.9260\n",
            "Epoch 2/10\n",
            "1875/1875 [==============================] - 5s 3ms/step - loss: 0.1149 - accuracy: 0.9667\n",
            "Epoch 3/10\n",
            "1875/1875 [==============================] - 4s 2ms/step - loss: 0.0797 - accuracy: 0.9759\n",
            "Epoch 4/10\n",
            "1875/1875 [==============================] - 4s 2ms/step - loss: 0.0598 - accuracy: 0.9819\n",
            "Epoch 5/10\n",
            "1875/1875 [==============================] - 4s 2ms/step - loss: 0.0464 - accuracy: 0.9856\n",
            "Epoch 6/10\n",
            "1875/1875 [==============================] - 4s 2ms/step - loss: 0.0362 - accuracy: 0.9886\n",
            "Epoch 7/10\n",
            "1875/1875 [==============================] - 4s 2ms/step - loss: 0.0310 - accuracy: 0.9902\n",
            "Epoch 8/10\n",
            "1875/1875 [==============================] - 4s 2ms/step - loss: 0.0237 - accuracy: 0.9927\n",
            "Epoch 9/10\n",
            "1875/1875 [==============================] - 4s 2ms/step - loss: 0.0196 - accuracy: 0.9941\n",
            "Epoch 10/10\n",
            "1875/1875 [==============================] - 4s 2ms/step - loss: 0.0161 - accuracy: 0.9948\n"
          ]
        },
        {
          "output_type": "execute_result",
          "data": {
            "text/plain": [
              "<keras.callbacks.History at 0x7f0ae69fd310>"
            ]
          },
          "metadata": {},
          "execution_count": 12
        }
      ]
    },
    {
      "cell_type": "markdown",
      "source": [
        "##Testando o modelo\n",
        "\n",
        "Testando o modelo no conjunto de teste"
      ],
      "metadata": {
        "id": "ONveJtAAEJ1v"
      }
    },
    {
      "cell_type": "code",
      "source": [
        "#Avaliando as métricas\n",
        "test_loss, test_acc = model.evaluate(x_test, y_test)\n",
        "print(f'Acurácia do modelo no conjunto de teste: {test_acc} e o erro:{test_loss}') \n",
        "#Apesar de termos ganhado um pouco mais em perda e reduzido um pouco a acurácia, é possível consideram o modelo como um bom modelo"
      ],
      "metadata": {
        "colab": {
          "base_uri": "https://localhost:8080/"
        },
        "id": "XtO5vauHCAAZ",
        "outputId": "f4e1014c-b79d-47e3-d9d4-1d7101a83cea"
      },
      "execution_count": null,
      "outputs": [
        {
          "output_type": "stream",
          "name": "stdout",
          "text": [
            "313/313 [==============================] - 1s 1ms/step - loss: 0.0843 - accuracy: 0.9768\n",
            "Acurácia do modelo no conjunto de teste: 0.9768000245094299 e o erro:0.08431494981050491\n"
          ]
        }
      ]
    },
    {
      "cell_type": "markdown",
      "source": [
        "## Predições"
      ],
      "metadata": {
        "id": "qY_-IjIoG1Ph"
      }
    },
    {
      "cell_type": "code",
      "source": [
        "probability_model = tf.keras.Sequential([model,\n",
        "                                         tf.keras.layers.Softmax()])"
      ],
      "metadata": {
        "id": "bCWK419ECDce"
      },
      "execution_count": null,
      "outputs": []
    },
    {
      "cell_type": "code",
      "source": [
        "predictions = probability_model.predict(x_test)"
      ],
      "metadata": {
        "id": "R9-pVcMVCF_H"
      },
      "execution_count": null,
      "outputs": []
    },
    {
      "cell_type": "code",
      "source": [
        "#matriz de probabilidades, deve observar a posição do maior valor de probabilidade\n",
        "#neste caso esta na posição 8, logo o próximo passo deve retonar como resposta o número 7\n",
        "predictions[0]"
      ],
      "metadata": {
        "colab": {
          "base_uri": "https://localhost:8080/"
        },
        "id": "lwfVJPwFCHxQ",
        "outputId": "1f6042e4-babc-4637-a5d4-ed8b6f5061b5"
      },
      "execution_count": null,
      "outputs": [
        {
          "output_type": "execute_result",
          "data": {
            "text/plain": [
              "array([2.0335237e-07, 8.0734491e-13, 1.4599540e-08, 1.8274924e-06,\n",
              "       2.6119474e-13, 9.9305793e-11, 1.3009479e-14, 9.9999678e-01,\n",
              "       7.7754464e-07, 4.3405052e-07], dtype=float32)"
            ]
          },
          "metadata": {},
          "execution_count": 16
        }
      ]
    },
    {
      "cell_type": "code",
      "source": [
        "np.argmax(predictions[0])"
      ],
      "metadata": {
        "colab": {
          "base_uri": "https://localhost:8080/"
        },
        "id": "vLHBlAlMCJ9i",
        "outputId": "76b98be6-0604-4a84-f847-7af56333a6df"
      },
      "execution_count": null,
      "outputs": [
        {
          "output_type": "execute_result",
          "data": {
            "text/plain": [
              "7"
            ]
          },
          "metadata": {},
          "execution_count": 17
        }
      ]
    },
    {
      "cell_type": "markdown",
      "source": [
        "## Visualização gráfica das predições\n"
      ],
      "metadata": {
        "id": "gWfyRgDcEaaI"
      }
    },
    {
      "cell_type": "code",
      "source": [
        "def plot_image(i, predictions, true_labels, images):\n",
        "  true_label, img = true_labels[i], images[i]\n",
        "  plt.xticks([])\n",
        "  plt.yticks([])\n",
        "  plt.imshow(img, cmap=\"gray\")\n",
        "  probability = np.max(predictions[i]) # retorna a maior probabilidade\n",
        "  predicted_label = np.argmax(predictions[i]) # Retorna a label com maior probabilidade\n",
        "  name_predicted_label = class_names[predicted_label] # Transformo a label numérica no nome do número\n",
        "\n",
        "  plt.xlabel(f\"{name_predicted_label}: {100*probability:2.0f}%\")"
      ],
      "metadata": {
        "id": "kTpnjmYpCM5R"
      },
      "execution_count": null,
      "outputs": []
    },
    {
      "cell_type": "code",
      "source": [
        "def plot_value_array(i, predictions, true_labels):\n",
        "  true_label = true_labels[i]\n",
        "  this_plot = plt.bar(range(10), predictions[i])\n",
        "  plt.xticks(range(10))\n",
        "  plt.yticks([])\n",
        "  plt.ylim([0, 1])\n",
        "  predicted_label = np.argmax(predictions[i]) # Retorna a label com maior probabilidade\n",
        "  this_plot[predicted_label].set_color('blue')\n",
        "  this_plot[true_label].set_color('red')"
      ],
      "metadata": {
        "id": "3T3r4nxeCRdY"
      },
      "execution_count": null,
      "outputs": []
    },
    {
      "cell_type": "code",
      "source": [
        "plot_image(0, predictions, y_test, x_test)"
      ],
      "metadata": {
        "colab": {
          "base_uri": "https://localhost:8080/",
          "height": 262
        },
        "id": "GxRvL4KOCUr3",
        "outputId": "c0684482-beae-43b7-c7be-a591e52bd5ac"
      },
      "execution_count": null,
      "outputs": [
        {
          "output_type": "display_data",
          "data": {
            "image/png": "[encoded data removed]",
            "text/plain": [
              "<Figure size 432x288 with 1 Axes>"
            ]
          },
          "metadata": {}
        }
      ]
    },
    {
      "cell_type": "code",
      "source": [
        "plot_value_array(0, predictions, y_test)"
      ],
      "metadata": {
        "colab": {
          "base_uri": "https://localhost:8080/",
          "height": 265
        },
        "id": "0y0kw8MyCWsd",
        "outputId": "d5375425-bc01-43b1-ee08-d823be40dcea"
      },
      "execution_count": null,
      "outputs": [
        {
          "output_type": "display_data",
          "data": {
            "image/png": "[encoded data removed]",
            "text/plain": [
              "<Figure size 432x288 with 1 Axes>"
            ]
          },
          "metadata": {
            "needs_background": "light"
          }
        }
      ]
    },
    {
      "cell_type": "code",
      "source": [
        "# Testando as funções juntas para compor uma figura\n",
        "i = 0\n",
        "plt.figure(figsize=(6, 3))\n",
        "plt.subplot(1, 2, 1)\n",
        "plot_image(i, predictions, y_test, x_test)\n",
        "plt.subplot(1, 2, 2)\n",
        "plot_value_array(i, predictions, y_test)\n",
        "plt.show()"
      ],
      "metadata": {
        "colab": {
          "base_uri": "https://localhost:8080/",
          "height": 211
        },
        "id": "HfzJi83ECZpm",
        "outputId": "cc817095-ffdc-4015-b6db-c806db78e103"
      },
      "execution_count": null,
      "outputs": [
        {
          "output_type": "display_data",
          "data": {
            "image/png": "[encoded data removed]",
            "text/plain": [
              "<Figure size 432x216 with 2 Axes>"
            ]
          },
          "metadata": {
            "needs_background": "light"
          }
        }
      ]
    },
    {
      "cell_type": "markdown",
      "source": [
        "### Observando as predições para diversas imagens do conjunto de teste:\n"
      ],
      "metadata": {
        "id": "1grgvSrIEiYi"
      }
    },
    {
      "cell_type": "code",
      "source": [
        "num_rows = 6\n",
        "num_cols = 6\n",
        "num_images = num_rows*num_cols\n",
        "plt.figure(figsize=(2*2*num_cols, 2*num_rows))\n",
        "for i in range(num_images):\n",
        "  plt.subplot(num_rows, 2*num_cols, 2*i+1)\n",
        "  plot_image(i, predictions, y_test, x_test)\n",
        "  plt.subplot(num_rows, 2*num_cols, 2*i+2)\n",
        "  plot_value_array(i, predictions, y_test)\n",
        "plt.show()"
      ],
      "metadata": {
        "colab": {
          "base_uri": "https://localhost:8080/",
          "height": 700
        },
        "id": "YwEfaLQECcTE",
        "outputId": "a1af4ac3-c294-464d-9709-47215837dd38"
      },
      "execution_count": null,
      "outputs": [
        {
          "output_type": "display_data",
          "data": {
            "image/png": "[encoded data removed]",
            "text/plain": [
              "<Figure size 1728x864 with 72 Axes>"
            ]
          },
          "metadata": {
            "needs_background": "light"
          }
        }
      ]
    },
    {
      "cell_type": "code",
      "source": [
        ""
      ],
      "metadata": {
        "id": "rRXsQ4OqCfv7"
      },
      "execution_count": null,
      "outputs": []
    }
  ]
}